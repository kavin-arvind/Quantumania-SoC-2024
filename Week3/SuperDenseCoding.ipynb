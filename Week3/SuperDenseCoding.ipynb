{
 "cells": [
  {
   "cell_type": "markdown",
   "id": "f8987700",
   "metadata": {},
   "source": [
    "# Super Dense Coding Assignment\n",
    "\n",
    "In this assignment, you will explore the concept of Super Dense Coding using Qiskit. Super Dense Coding is a quantum communication protocol that allows the transmission of classical information using quantum entanglement.\n",
    "\n",
    "\n",
    "## Part 1: Transmitting 2 Bits Using Super Dense Coding\n",
    "\n",
    "### Task 1.1: Understanding the Protocol\n",
    "\n",
    "In the Super Dense Coding protocol, Alice and Bob share a maximally entangled two-qubit state (Bell state). Alice can send 2 bits of classical information to Bob by applying a specific quantum gate based on her message and sending her qubit to Bob. Bob can then decode the message by applying a set of operations on the received qubit.\n",
    "\n",
    "1. Describe the Super Dense Coding protocol in your own words.\n",
    "2. Write the steps involved in the protocol."
   ]
  },
  {
   "cell_type": "markdown",
   "id": "12ac6a26",
   "metadata": {},
   "source": [
    "### Task 1.2: Implementing the Protocol in Qiskit\n",
    "\n",
    "Implement the Super Dense Coding protocol in Qiskit. Specifically, code a function that takes a 2-bit message as input and returns the corresponding quantum circuit.\n"
   ]
  },
  {
   "cell_type": "code",
   "execution_count": 2,
   "id": "f73445ce",
   "metadata": {},
   "outputs": [],
   "source": [
    "# write your code here"
   ]
  },
  {
   "cell_type": "markdown",
   "id": "ab6d9cc8",
   "metadata": {},
   "source": [
    "## Part 2: Transmitting 3 Bits Using a 3-Qubit Entangled State\n",
    "\n",
    "### Task 2.1: Proposing a 3-Qubit State\n",
    "\n",
    "Now that you have successfully transmitted 2 bits of information, suppose that Alice and Bob share a 3-qubit entangled state with 2 qubits with Alice and 1 qubit with Bob. Their goal is to transmit 3 bits, using those 3 qubits.\n",
    "\n",
    "1. Describe the 3-qubit entangled state that is shared between Alice and Bob.\n",
    "\n",
    "### Task 2.2: Designing the Protocol\n",
    "\n",
    "Design a protocol that allows Alice to transmit a 3-bit message by sending her 2 qubits to Bob. Implement this protocol in Qiskit."
   ]
  },
  {
   "cell_type": "code",
   "execution_count": 4,
   "id": "b7f0600b",
   "metadata": {},
   "outputs": [],
   "source": [
    "# write your code here"
   ]
  },
  {
   "cell_type": "markdown",
   "id": "93d5b261",
   "metadata": {},
   "source": [
    "\n",
    "## Part 3: Analyzing Limitations\n",
    "\n",
    "### Task 3.1: Limitations of Transmitting Information\n",
    "\n",
    "Analyze the limitations of the protocol where Bob tries to send more than 2 bits of information using only 1 qubit. Explain why it is not possible.\n",
    "\n",
    "### Task 3.2: Improving the Protocol\n",
    "\n",
    "Notice that we are sending 2 qubits to transmit 3 bits of information in the above protocol. We can do better by using 2 qubits to send 4 bits of information by repeating the first protocol twice.\n",
    "\n",
    "Can you think of a way to achieve this, in a similar line to the previous methods, but with one common shared state (and not two separate Bell states)?"
   ]
  }
 ],
 "metadata": {
  "kernelspec": {
   "display_name": "Python 3 (ipykernel)",
   "language": "python",
   "name": "python3"
  },
  "language_info": {
   "codemirror_mode": {
    "name": "ipython",
    "version": 3
   },
   "file_extension": ".py",
   "mimetype": "text/x-python",
   "name": "python",
   "nbconvert_exporter": "python",
   "pygments_lexer": "ipython3",
   "version": "3.9.13"
  }
 },
 "nbformat": 4,
 "nbformat_minor": 5
}
