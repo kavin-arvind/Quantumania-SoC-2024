{
 "cells": [
  {
   "cell_type": "markdown",
   "id": "df260f59",
   "metadata": {},
   "source": [
    "# Quantum Teleportation Assignment\n",
    "\n",
    "In this assignment, you will explore the concept of Quantum Teleportation using Qiskit. Quantum Teleportation is a protocol that allows the transfer of a quantum state from one qubit to another, utilizing entanglement and classical communication.\n",
    "\n",
    "## Part 1: Teleportation of Pure States\n",
    "\n",
    "### Task 1.1: Understanding the Protocol\n",
    "\n",
    "In the Quantum Teleportation protocol, Alice and Bob share a maximally entangled two-qubit state (Bell state). Alice can teleport an unknown quantum state to Bob by performing certain quantum operations and classical communication. \n",
    "\n",
    "1. Describe the Quantum Teleportation protocol in your own words.\n",
    "2. Write the steps involved in the protocol.\n",
    "\n",
    "### Task 1.2: Implementing the Protocol in Qiskit\n",
    "\n",
    "Implement the Quantum Teleportation protocol in Qiskit. Specifically, code a function that creates a circuit to teleport an arbitrary quantum state.\n"
   ]
  },
  {
   "cell_type": "code",
   "execution_count": null,
   "id": "eb311276",
   "metadata": {},
   "outputs": [],
   "source": [
    "# write your code here\n",
    "from qiskit import QuantumCircuit, QuantumRegister, ClassicalRegister, transpile\n",
    "from qiskit_aer import aer_simulator, Aer, AerSimulator\n",
    "from qiskit.visualization import plot_histogram\n",
    "\n",
    "def third_party():\n",
    "    q = QuantumRegister(3, 'q')\n",
    "    c = ClassicalRegister(3, 'c')\n",
    "    qc = QuantumCircuit(q, c)\n",
    "    qc.h(0)\n",
    "    qc.cx(0, 1)\n",
    "    return qc\n",
    "\n",
    "def Alice(qc, quibit):\n",
    "    "
   ]
  },
  {
   "cell_type": "markdown",
   "id": "aa44963d",
   "metadata": {},
   "source": [
    "## Part 2: Teleportation of Mixed States\n",
    "\n",
    "### Task 2.1: Teleporting a Mixed State\n",
    "\n",
    "The standard Quantum Teleportation protocol assumes that the state to be teleported is a pure state ($\\alpha \\vert 0 \\rangle + \\beta \\vert 1 \\rangle$). However, you cannot directly use this protocol to teleport mixed states ($\\frac 2 3 \\vert 0 \\rangle \\langle 0 \\vert + \\frac 1 3 \\vert 1 \\rangle \\langle 1 \\vert$).\n",
    "\n",
    "1. Propose a protocol that uses Quantum Teleportation as a component to teleport a mixed state.\n",
    "\n",
    "\n",
    "Optional: Implement this protocol in Qiskit."
   ]
  },
  {
   "cell_type": "markdown",
   "id": "a37c2c3f",
   "metadata": {},
   "source": [
    "## Part 3: Teleporting an Entangled Qubit\n",
    "\n",
    "### Task 3.1: Teleporting One Qubit of a Maximally Entangled Pair\n",
    "\n",
    "Consider a scenario where Alice shares a maximally entangled pair of qubits with Bob: $ \\vert\\psi^+\\rangle_{AB} = \\frac 1 2 \\left( \\vert 00 \\rangle + \\vert 11 \\rangle \\right)$. She then wants to teleport her share of  the entangled qubit to Charlie.\n",
    "\n",
    "1. Describe what will happen to the state of the system if Alice teleports her qubit to Charlie using the standard Quantum Teleportation protocol.\n",
    "2. Explain the resulting entanglement relationships between Bob, Charlie, and the teleported qubit.\n",
    "\n",
    "Optional: Implement the teleportation of one qubit of a maximally entangled pair in Qiskit and verify the resulting state."
   ]
  },
  {
   "cell_type": "code",
   "execution_count": null,
   "id": "c3dc88c0",
   "metadata": {},
   "outputs": [],
   "source": []
  }
 ],
 "metadata": {
  "kernelspec": {
   "display_name": "Python 3 (ipykernel)",
   "language": "python",
   "name": "python3"
  },
  "language_info": {
   "codemirror_mode": {
    "name": "ipython",
    "version": 3
   },
   "file_extension": ".py",
   "mimetype": "text/x-python",
   "name": "python",
   "nbconvert_exporter": "python",
   "pygments_lexer": "ipython3",
   "version": "3.10.12"
  }
 },
 "nbformat": 4,
 "nbformat_minor": 5
}
