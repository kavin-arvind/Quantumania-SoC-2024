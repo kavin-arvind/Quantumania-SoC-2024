{
 "cells": [
  {
   "cell_type": "code",
   "execution_count": 8,
   "metadata": {},
   "outputs": [],
   "source": [
    "from qiskit import QuantumCircuit, QuantumRegister\n",
    "from qiskit_aer import aer_simulator, Aer\n",
    "from qiskit.visualization import plot_histogram"
   ]
  },
  {
   "cell_type": "code",
   "execution_count": 14,
   "metadata": {},
   "outputs": [
    {
     "data": {
      "text/html": [
       "<pre style=\"word-wrap: normal;white-space: pre;background: #fff0;line-height: 1.1;font-family: &quot;Courier New&quot;,Courier,monospace\">        ┌───┐           ░ ┌─┐      \n",
       "   q_0: ┤ X ├───────────░─┤M├──────\n",
       "        └─┬─┘┌───┐      ░ └╥┘┌─┐   \n",
       "   q_1: ──■──┤ X ├──────░──╫─┤M├───\n",
       "          │  └─┬─┘┌───┐ ░  ║ └╥┘┌─┐\n",
       "   q_2: ──■────■──┤ X ├─░──╫──╫─┤M├\n",
       "                  └───┘ ░  ║  ║ └╥┘\n",
       "meas: 3/═══════════════════╩══╩══╩═\n",
       "                           0  1  2 </pre>"
      ],
      "text/plain": [
       "        ┌───┐           ░ ┌─┐      \n",
       "   q_0: ┤ X ├───────────░─┤M├──────\n",
       "        └─┬─┘┌───┐      ░ └╥┘┌─┐   \n",
       "   q_1: ──■──┤ X ├──────░──╫─┤M├───\n",
       "          │  └─┬─┘┌───┐ ░  ║ └╥┘┌─┐\n",
       "   q_2: ──■────■──┤ X ├─░──╫──╫─┤M├\n",
       "                  └───┘ ░  ║  ║ └╥┘\n",
       "meas: 3/═══════════════════╩══╩══╩═\n",
       "                           0  1  2 "
      ]
     },
     "execution_count": 14,
     "metadata": {},
     "output_type": "execute_result"
    }
   ],
   "source": [
    "q = QuantumRegister(3, 'q')\n",
    "qc = QuantumCircuit(q)\n",
    "\n",
    "# assuming a[0] is the most significant qubit\n",
    "qc.ccx(q[2], q[1], q[0])\n",
    "qc.cx(q[2], q[1])\n",
    "qc.x(q[2])\n",
    "\n",
    "qc.measure_all()\n",
    "qc.draw()"
   ]
  },
  {
   "cell_type": "markdown",
   "metadata": {},
   "source": []
  },
  {
   "cell_type": "code",
   "execution_count": 16,
   "metadata": {},
   "outputs": [
    {
     "data": {
      "text/html": [
       "<pre style=\"word-wrap: normal;white-space: pre;background: #fff0;line-height: 1.1;font-family: &quot;Courier New&quot;,Courier,monospace\">                    \n",
       "a_0: ──■────────────\n",
       "       │            \n",
       "a_1: ──┼────■───────\n",
       "       │    │       \n",
       "a_2: ──┼────┼────■──\n",
       "     ┌─┴─┐  │    │  \n",
       "p_0: ┤ X ├──┼────┼──\n",
       "     └───┘┌─┴─┐  │  \n",
       "p_1: ─────┤ X ├──┼──\n",
       "          └───┘┌─┴─┐\n",
       "p_2: ──────────┤ X ├\n",
       "               └───┘\n",
       "s_0: ───────────────\n",
       "                    \n",
       "s_1: ───────────────\n",
       "                    \n",
       "s_2: ───────────────\n",
       "                    \n",
       "c_0: ───────────────\n",
       "                    \n",
       "c_1: ───────────────\n",
       "                    \n",
       "c_2: ───────────────\n",
       "                    </pre>"
      ],
      "text/plain": [
       "                    \n",
       "a_0: ──■────────────\n",
       "       │            \n",
       "a_1: ──┼────■───────\n",
       "       │    │       \n",
       "a_2: ──┼────┼────■──\n",
       "     ┌─┴─┐  │    │  \n",
       "p_0: ┤ X ├──┼────┼──\n",
       "     └───┘┌─┴─┐  │  \n",
       "p_1: ─────┤ X ├──┼──\n",
       "          └───┘┌─┴─┐\n",
       "p_2: ──────────┤ X ├\n",
       "               └───┘\n",
       "s_0: ───────────────\n",
       "                    \n",
       "s_1: ───────────────\n",
       "                    \n",
       "s_2: ───────────────\n",
       "                    \n",
       "c_0: ───────────────\n",
       "                    \n",
       "c_1: ───────────────\n",
       "                    \n",
       "c_2: ───────────────\n",
       "                    "
      ]
     },
     "execution_count": 16,
     "metadata": {},
     "output_type": "execute_result"
    }
   ],
   "source": [
    "# question 2\n",
    "a = QuantumRegister(3, 'a')\n",
    "p = QuantumRegister(3, 'p')\n",
    "s = QuantumRegister(3, 's')\n",
    "c = QuantumRegister(3, 'c')\n",
    "\n",
    "qc = QuantumCircuit(a,p,s,c)\n",
    "\n",
    "# Copy the values from register a to register p using CNOT gates\n",
    "for i in range(3):\n",
    "    qc.cx(a[i], p[i])\n",
    "\n",
    "qc.ccx(c[2], p[2], s[2])\n",
    "qc.cx(p[2], s[2])\n",
    "\n",
    "qc.ccx(p[1], s[1], c[2])\n",
    "\n",
    "\n",
    "qc.draw()"
   ]
  }
 ],
 "metadata": {
  "kernelspec": {
   "display_name": "Python 3",
   "language": "python",
   "name": "python3"
  },
  "language_info": {
   "codemirror_mode": {
    "name": "ipython",
    "version": 3
   },
   "file_extension": ".py",
   "mimetype": "text/x-python",
   "name": "python",
   "nbconvert_exporter": "python",
   "pygments_lexer": "ipython3",
   "version": "3.10.12"
  }
 },
 "nbformat": 4,
 "nbformat_minor": 2
}
